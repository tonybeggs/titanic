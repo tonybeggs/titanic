{
 "cells": [
  {
   "cell_type": "code",
   "execution_count": 1,
   "metadata": {
    "collapsed": false,
    "deletable": true,
    "editable": true
   },
   "outputs": [],
   "source": [
    "import numpy as np\n",
    "import pandas as pd\n",
    "import matplotlib.pyplot as plt\n",
    "from string import punctuation\n",
    "\n",
    "from sklearn.decomposition import PCA\n",
    "from sklearn.linear_model import SGDClassifier, LogisticRegression\n",
    "from sklearn.pipeline import Pipeline\n",
    "from sklearn.model_selection import GridSearchCV, train_test_split\n",
    "from sklearn.preprocessing import MinMaxScaler\n",
    "from sklearn.metrics import precision_score, recall_score, f1_score, roc_auc_score, precision_recall_curve\n",
    "from sklearn.ensemble import RandomForestClassifier\n",
    "from sklearn.utils import resample\n",
    "\n",
    "from IPython.core.interactiveshell import InteractiveShell\n",
    "InteractiveShell.ast_node_interactivity = \"all\""
   ]
  },
  {
   "cell_type": "code",
   "execution_count": 2,
   "metadata": {
    "collapsed": true
   },
   "outputs": [],
   "source": [
    "pd.options.display.max_rows = 100\n",
    "pd.options.mode.chained_assignment = None"
   ]
  },
  {
   "cell_type": "markdown",
   "metadata": {},
   "source": [
    "## Import Data"
   ]
  },
  {
   "cell_type": "code",
   "execution_count": 3,
   "metadata": {
    "collapsed": false,
    "deletable": true,
    "editable": true
   },
   "outputs": [
    {
     "data": {
      "text/plain": [
       "(891, 12)"
      ]
     },
     "execution_count": 3,
     "metadata": {},
     "output_type": "execute_result"
    }
   ],
   "source": [
    "train_data = pd.read_csv('train.csv')\n",
    "train_data.shape"
   ]
  },
  {
   "cell_type": "code",
   "execution_count": 4,
   "metadata": {
    "collapsed": false,
    "deletable": true,
    "editable": true
   },
   "outputs": [
    {
     "data": {
      "text/html": [
       "<div>\n",
       "<style scoped>\n",
       "    .dataframe tbody tr th:only-of-type {\n",
       "        vertical-align: middle;\n",
       "    }\n",
       "\n",
       "    .dataframe tbody tr th {\n",
       "        vertical-align: top;\n",
       "    }\n",
       "\n",
       "    .dataframe thead th {\n",
       "        text-align: right;\n",
       "    }\n",
       "</style>\n",
       "<table border=\"1\" class=\"dataframe\">\n",
       "  <thead>\n",
       "    <tr style=\"text-align: right;\">\n",
       "      <th></th>\n",
       "      <th>PassengerId</th>\n",
       "      <th>Pclass</th>\n",
       "      <th>Name</th>\n",
       "      <th>Sex</th>\n",
       "      <th>Age</th>\n",
       "      <th>SibSp</th>\n",
       "      <th>Parch</th>\n",
       "      <th>Ticket</th>\n",
       "      <th>Fare</th>\n",
       "      <th>Cabin</th>\n",
       "      <th>Embarked</th>\n",
       "    </tr>\n",
       "  </thead>\n",
       "  <tbody>\n",
       "    <tr>\n",
       "      <th>0</th>\n",
       "      <td>892</td>\n",
       "      <td>3</td>\n",
       "      <td>Kelly, Mr. James</td>\n",
       "      <td>male</td>\n",
       "      <td>34.5</td>\n",
       "      <td>0</td>\n",
       "      <td>0</td>\n",
       "      <td>330911</td>\n",
       "      <td>7.8292</td>\n",
       "      <td>NaN</td>\n",
       "      <td>Q</td>\n",
       "    </tr>\n",
       "    <tr>\n",
       "      <th>1</th>\n",
       "      <td>893</td>\n",
       "      <td>3</td>\n",
       "      <td>Wilkes, Mrs. James (Ellen Needs)</td>\n",
       "      <td>female</td>\n",
       "      <td>47.0</td>\n",
       "      <td>1</td>\n",
       "      <td>0</td>\n",
       "      <td>363272</td>\n",
       "      <td>7.0000</td>\n",
       "      <td>NaN</td>\n",
       "      <td>S</td>\n",
       "    </tr>\n",
       "    <tr>\n",
       "      <th>2</th>\n",
       "      <td>894</td>\n",
       "      <td>2</td>\n",
       "      <td>Myles, Mr. Thomas Francis</td>\n",
       "      <td>male</td>\n",
       "      <td>62.0</td>\n",
       "      <td>0</td>\n",
       "      <td>0</td>\n",
       "      <td>240276</td>\n",
       "      <td>9.6875</td>\n",
       "      <td>NaN</td>\n",
       "      <td>Q</td>\n",
       "    </tr>\n",
       "    <tr>\n",
       "      <th>3</th>\n",
       "      <td>895</td>\n",
       "      <td>3</td>\n",
       "      <td>Wirz, Mr. Albert</td>\n",
       "      <td>male</td>\n",
       "      <td>27.0</td>\n",
       "      <td>0</td>\n",
       "      <td>0</td>\n",
       "      <td>315154</td>\n",
       "      <td>8.6625</td>\n",
       "      <td>NaN</td>\n",
       "      <td>S</td>\n",
       "    </tr>\n",
       "    <tr>\n",
       "      <th>4</th>\n",
       "      <td>896</td>\n",
       "      <td>3</td>\n",
       "      <td>Hirvonen, Mrs. Alexander (Helga E Lindqvist)</td>\n",
       "      <td>female</td>\n",
       "      <td>22.0</td>\n",
       "      <td>1</td>\n",
       "      <td>1</td>\n",
       "      <td>3101298</td>\n",
       "      <td>12.2875</td>\n",
       "      <td>NaN</td>\n",
       "      <td>S</td>\n",
       "    </tr>\n",
       "  </tbody>\n",
       "</table>\n",
       "</div>"
      ],
      "text/plain": [
       "   PassengerId  Pclass                                          Name     Sex  \\\n",
       "0          892       3                              Kelly, Mr. James    male   \n",
       "1          893       3              Wilkes, Mrs. James (Ellen Needs)  female   \n",
       "2          894       2                     Myles, Mr. Thomas Francis    male   \n",
       "3          895       3                              Wirz, Mr. Albert    male   \n",
       "4          896       3  Hirvonen, Mrs. Alexander (Helga E Lindqvist)  female   \n",
       "\n",
       "    Age  SibSp  Parch   Ticket     Fare Cabin Embarked  \n",
       "0  34.5      0      0   330911   7.8292   NaN        Q  \n",
       "1  47.0      1      0   363272   7.0000   NaN        S  \n",
       "2  62.0      0      0   240276   9.6875   NaN        Q  \n",
       "3  27.0      0      0   315154   8.6625   NaN        S  \n",
       "4  22.0      1      1  3101298  12.2875   NaN        S  "
      ]
     },
     "execution_count": 4,
     "metadata": {},
     "output_type": "execute_result"
    }
   ],
   "source": [
    "test_data = pd.read_csv('test.csv')\n",
    "test_data.head()"
   ]
  },
  {
   "cell_type": "code",
   "execution_count": 5,
   "metadata": {
    "collapsed": false,
    "deletable": true,
    "editable": true
   },
   "outputs": [
    {
     "data": {
      "text/plain": [
       "(418, 11)"
      ]
     },
     "execution_count": 5,
     "metadata": {},
     "output_type": "execute_result"
    }
   ],
   "source": [
    "test_data.shape"
   ]
  },
  {
   "cell_type": "markdown",
   "metadata": {},
   "source": [
    "## Explore Dataset\n",
    "Check nulls, class balance and look at some value counts for different columns."
   ]
  },
  {
   "cell_type": "code",
   "execution_count": 6,
   "metadata": {
    "collapsed": false
   },
   "outputs": [
    {
     "data": {
      "text/plain": [
       "[['PassengerId', 0],\n",
       " ['Survived', 0],\n",
       " ['Pclass', 0],\n",
       " ['Name', 0],\n",
       " ['Sex', 0],\n",
       " ['Age', 177],\n",
       " ['SibSp', 0],\n",
       " ['Parch', 0],\n",
       " ['Ticket', 0],\n",
       " ['Fare', 0],\n",
       " ['Cabin', 687],\n",
       " ['Embarked', 2]]"
      ]
     },
     "execution_count": 6,
     "metadata": {},
     "output_type": "execute_result"
    }
   ],
   "source": [
    "# Count nulls in each column.\n",
    "[[col, train_data[col].isnull().sum()] for col in train_data.columns]"
   ]
  },
  {
   "cell_type": "markdown",
   "metadata": {},
   "source": [
    "Look at the class balance. Makes sense to balance classes for model input data.\n",
    "Maybe look at bagging techniques."
   ]
  },
  {
   "cell_type": "code",
   "execution_count": 7,
   "metadata": {
    "collapsed": false,
    "deletable": true,
    "editable": true
   },
   "outputs": [
    {
     "data": {
      "text/plain": [
       "0    549\n",
       "1    342\n",
       "Name: Survived, dtype: int64"
      ]
     },
     "execution_count": 7,
     "metadata": {},
     "output_type": "execute_result"
    }
   ],
   "source": [
    "train_data['Survived'].value_counts(dropna=False)"
   ]
  },
  {
   "cell_type": "code",
   "execution_count": 8,
   "metadata": {
    "collapsed": false,
    "deletable": true,
    "editable": true
   },
   "outputs": [
    {
     "data": {
      "text/plain": [
       "3    491\n",
       "1    216\n",
       "2    184\n",
       "Name: Pclass, dtype: int64"
      ]
     },
     "execution_count": 8,
     "metadata": {},
     "output_type": "execute_result"
    }
   ],
   "source": [
    "train_data['Pclass'].value_counts(dropna=False)"
   ]
  },
  {
   "cell_type": "code",
   "execution_count": 9,
   "metadata": {
    "collapsed": false,
    "deletable": true,
    "editable": true
   },
   "outputs": [
    {
     "data": {
      "text/plain": [
       "male      577\n",
       "female    314\n",
       "Name: Sex, dtype: int64"
      ]
     },
     "execution_count": 9,
     "metadata": {},
     "output_type": "execute_result"
    }
   ],
   "source": [
    "train_data['Sex'].value_counts(dropna=False)"
   ]
  },
  {
   "cell_type": "markdown",
   "metadata": {},
   "source": [
    "Notably, `Age` is missing a significant number of values. Maybe we can later\n",
    "impute values using averages across other fields."
   ]
  },
  {
   "cell_type": "code",
   "execution_count": 10,
   "metadata": {
    "collapsed": false,
    "deletable": true,
    "editable": true
   },
   "outputs": [
    {
     "data": {
      "text/plain": [
       "NaN     177\n",
       "24.0     30\n",
       "22.0     27\n",
       "18.0     26\n",
       "28.0     25\n",
       "19.0     25\n",
       "30.0     25\n",
       "21.0     24\n",
       "25.0     23\n",
       "36.0     22\n",
       "Name: Age, dtype: int64"
      ]
     },
     "execution_count": 10,
     "metadata": {},
     "output_type": "execute_result"
    }
   ],
   "source": [
    "train_data['Age'].value_counts(dropna=False).head(10)"
   ]
  },
  {
   "cell_type": "code",
   "execution_count": 11,
   "metadata": {
    "collapsed": false,
    "deletable": true,
    "editable": true
   },
   "outputs": [
    {
     "data": {
      "text/plain": [
       "S      644\n",
       "C      168\n",
       "Q       77\n",
       "NaN      2\n",
       "Name: Embarked, dtype: int64"
      ]
     },
     "execution_count": 11,
     "metadata": {},
     "output_type": "execute_result"
    }
   ],
   "source": [
    "train_data['Embarked'].value_counts(dropna=False)"
   ]
  },
  {
   "cell_type": "markdown",
   "metadata": {},
   "source": [
    "Looking at each of the ports passengers left from:\n",
    "- There are significantly different class sizes\n",
    "- There are different survival rates"
   ]
  },
  {
   "cell_type": "code",
   "execution_count": 12,
   "metadata": {
    "collapsed": false
   },
   "outputs": [
    {
     "data": {
      "text/html": [
       "<div>\n",
       "<style scoped>\n",
       "    .dataframe tbody tr th:only-of-type {\n",
       "        vertical-align: middle;\n",
       "    }\n",
       "\n",
       "    .dataframe tbody tr th {\n",
       "        vertical-align: top;\n",
       "    }\n",
       "\n",
       "    .dataframe thead th {\n",
       "        text-align: right;\n",
       "    }\n",
       "</style>\n",
       "<table border=\"1\" class=\"dataframe\">\n",
       "  <thead>\n",
       "    <tr style=\"text-align: right;\">\n",
       "      <th>Survived</th>\n",
       "      <th>0</th>\n",
       "      <th>1</th>\n",
       "    </tr>\n",
       "    <tr>\n",
       "      <th>Embarked</th>\n",
       "      <th></th>\n",
       "      <th></th>\n",
       "    </tr>\n",
       "  </thead>\n",
       "  <tbody>\n",
       "    <tr>\n",
       "      <th>C</th>\n",
       "      <td>75</td>\n",
       "      <td>93</td>\n",
       "    </tr>\n",
       "    <tr>\n",
       "      <th>Q</th>\n",
       "      <td>47</td>\n",
       "      <td>30</td>\n",
       "    </tr>\n",
       "    <tr>\n",
       "      <th>S</th>\n",
       "      <td>427</td>\n",
       "      <td>217</td>\n",
       "    </tr>\n",
       "  </tbody>\n",
       "</table>\n",
       "</div>"
      ],
      "text/plain": [
       "Survived    0    1\n",
       "Embarked          \n",
       "C          75   93\n",
       "Q          47   30\n",
       "S         427  217"
      ]
     },
     "execution_count": 12,
     "metadata": {},
     "output_type": "execute_result"
    },
    {
     "data": {
      "text/plain": [
       "Embarked\n",
       "C    0.553571\n",
       "Q    0.389610\n",
       "S    0.336957\n",
       "dtype: float64"
      ]
     },
     "execution_count": 12,
     "metadata": {},
     "output_type": "execute_result"
    }
   ],
   "source": [
    "def embarkment_port_pivot(input_df):\n",
    "    '''Create a pivot counting the survival/deaths of passengers embarking\n",
    "    from each separate port.\n",
    "    '''\n",
    "    \n",
    "    df = input_df.pivot_table(\n",
    "        index=['Embarked'],\n",
    "        columns=['Survived'],\n",
    "        values=['PassengerId'],\n",
    "        aggfunc=len\n",
    "    )\n",
    "    \n",
    "    df.columns = df.columns.droplevel()\n",
    "\n",
    "    return df\n",
    "\n",
    "df = embarkment_port_pivot(train_data)\n",
    "df\n",
    "df[1] / (df[0] + df[1])"
   ]
  },
  {
   "cell_type": "code",
   "execution_count": 13,
   "metadata": {
    "collapsed": false,
    "deletable": true,
    "editable": true
   },
   "outputs": [
    {
     "data": {
      "text/plain": [
       "0    608\n",
       "1    209\n",
       "2     28\n",
       "4     18\n",
       "3     16\n",
       "8      7\n",
       "5      5\n",
       "Name: SibSp, dtype: int64"
      ]
     },
     "execution_count": 13,
     "metadata": {},
     "output_type": "execute_result"
    }
   ],
   "source": [
    "train_data['SibSp'].value_counts(dropna=False)"
   ]
  },
  {
   "cell_type": "code",
   "execution_count": 14,
   "metadata": {
    "collapsed": false,
    "deletable": true,
    "editable": true
   },
   "outputs": [
    {
     "data": {
      "text/plain": [
       "S      644\n",
       "C      168\n",
       "Q       77\n",
       "NaN      2\n",
       "Name: Embarked, dtype: int64"
      ]
     },
     "execution_count": 14,
     "metadata": {},
     "output_type": "execute_result"
    }
   ],
   "source": [
    "train_data['Embarked'].value_counts(dropna=False)"
   ]
  },
  {
   "cell_type": "code",
   "execution_count": 15,
   "metadata": {
    "collapsed": false
   },
   "outputs": [
    {
     "data": {
      "text/plain": [
       "0                              Braund, Mr. Owen Harris\n",
       "1    Cumings, Mrs. John Bradley (Florence Briggs Th...\n",
       "2                               Heikkinen, Miss. Laina\n",
       "3         Futrelle, Mrs. Jacques Heath (Lily May Peel)\n",
       "4                             Allen, Mr. William Henry\n",
       "Name: Name, dtype: object"
      ]
     },
     "execution_count": 15,
     "metadata": {},
     "output_type": "execute_result"
    }
   ],
   "source": [
    "train_data['Name'].head()"
   ]
  },
  {
   "cell_type": "markdown",
   "metadata": {},
   "source": [
    "## Feature Engineering\n",
    "Select and preprocess some features before modelling."
   ]
  },
  {
   "cell_type": "code",
   "execution_count": 16,
   "metadata": {
    "collapsed": true,
    "deletable": true,
    "editable": true
   },
   "outputs": [],
   "source": [
    "def featurize_column(input_df, input_col, index_col=None):\n",
    "    '''Convert a column of text labels into a dataframe of binary\n",
    "    columns in each unique label value.\n",
    "    \n",
    "    Args:\n",
    "    input_df (DataFrame):\n",
    "    index_col (str):\n",
    "    input_col (str):\n",
    "    \n",
    "    Returns:\n",
    "    feature_piv (DataFrame):\n",
    "    \n",
    "    Example:\n",
    "    \n",
    "    User | Job               User | Carpenter | Electrician   \n",
    "    Joe  | Carpenter    -->  Joe  |    1      |     0\n",
    "    Jane | Electrician       Jane |    0      |     1\n",
    "\n",
    "    '''\n",
    "                    \n",
    "    feature_piv = input_df[[input_col]]\n",
    "    feature_piv['count'] = 1\n",
    "    \n",
    "    feature_piv = feature_piv.pivot_table(\n",
    "        index=feature_piv.index,\n",
    "        columns=[input_col],\n",
    "        values=['count']\n",
    "    )\n",
    "    \n",
    "    feature_piv.columns = feature_piv.columns.droplevel()\n",
    "    feature_piv.columns = [input_col + '_' + col for col in feature_piv.columns]\n",
    "    \n",
    "    feature_piv = feature_piv.fillna(0)\n",
    "    \n",
    "    return feature_piv\n",
    "\n",
    "def replace_with_featurized_column(input_df, input_col, index_col=None):\n",
    "    '''Replace a column of text labels in a dataframe with a set of binary\n",
    "    columns in each unique label value.\n",
    "    \n",
    "    Args:\n",
    "    input_df (DataFrame):\n",
    "    index_col (str):\n",
    "    input_col (str):\n",
    "    \n",
    "    Returns:\n",
    "    output_df (DataFrame):\n",
    "\n",
    "    '''\n",
    "                    \n",
    "    feature_piv = featurize_column(input_df, input_col, index_col)\n",
    "    \n",
    "    output_df = input_df.drop(input_col, axis=1)\n",
    "    output_df = output_df.join(feature_piv, how='left')\n",
    "    \n",
    "    return output_df\n"
   ]
  },
  {
   "cell_type": "code",
   "execution_count": 17,
   "metadata": {
    "collapsed": true,
    "deletable": true,
    "editable": true
   },
   "outputs": [],
   "source": [
    "def select_features(input_df):\n",
    "    '''Select features to be input and preprocessed for model.\n",
    "    '''\n",
    "    \n",
    "    output_df = input_df.set_index('PassengerId')\n",
    "    \n",
    "    features = [\n",
    "        'Survived',\n",
    "        'Name',\n",
    "        'Pclass',\n",
    "        'Sex',\n",
    "        'Age',\n",
    "        'SibSp',\n",
    "        'Parch',\n",
    "        'Fare',\n",
    "        'Embarked'\n",
    "    ]\n",
    "    \n",
    "    output_df = output_df[features]\n",
    "    \n",
    "    return output_df"
   ]
  },
  {
   "cell_type": "code",
   "execution_count": 18,
   "metadata": {
    "collapsed": false
   },
   "outputs": [],
   "source": [
    "def strip_punctuation(input_str):\n",
    "    '''Remove all punctuation characters from string. Leaves\n",
    "    whitespace characters as is.\n",
    "    '''\n",
    "    stripped = ''.join(c for c in input_str if c not in punctuation)\n",
    "    return stripped\n",
    "\n",
    "def get_unique_name_words(input_df):\n",
    "    '''Find the set of unique words in all names across the dataset.\n",
    "    Useful for exploring bag of words analysis.\n",
    "    '''\n",
    "    s = input_df['Name'].apply(strip_punctuation).str.split(' ')\n",
    "    s = s.apply(pd.Series).values\n",
    "    \n",
    "    s = pd.Series(np.concatenate(s)).dropna()\n",
    "    s = s.value_counts(dropna=False)\n",
    "    \n",
    "    return s"
   ]
  },
  {
   "cell_type": "code",
   "execution_count": 19,
   "metadata": {
    "collapsed": true
   },
   "outputs": [],
   "source": [
    "def get_married_female_column(input_df):\n",
    "    ''' Find if a female is married by checking if her husband's name is\n",
    "    contained in the 'Name' column, which seems to be demarcated by round\n",
    "    brackets.\n",
    "    '''\n",
    "    output_df = input_df.copy()\n",
    "    is_woman = output_df['Sex'] == 'female'\n",
    "    is_married = ((output_df['Name'].str.split(' \\(').str.len() + 1) % 2).astype(bool)\n",
    "    \n",
    "    output_df['IsMarriedWoman'] = (is_woman & is_married).astype(int)\n",
    "    \n",
    "    output_df = output_df.drop('Name', axis=1)\n",
    "    \n",
    "    return output_df"
   ]
  },
  {
   "cell_type": "code",
   "execution_count": 20,
   "metadata": {
    "collapsed": true
   },
   "outputs": [],
   "source": [
    "def get_num_words_in_name(input_df):\n",
    "    '''Find the number of words/terms in a passenger's name.\n",
    "    '''\n",
    "    \n",
    "    num_words = input_df['Name'].apply(strip_punctuation).str.split(' ').str.len()\n",
    "    \n",
    "    return num_words\n",
    "\n"
   ]
  },
  {
   "cell_type": "code",
   "execution_count": 21,
   "metadata": {
    "collapsed": false,
    "deletable": true,
    "editable": true
   },
   "outputs": [],
   "source": [
    "def build_model_df(input_df):\n",
    "    '''Preprocess features and rescale the data.\n",
    "    '''\n",
    "    \n",
    "    model_df = select_features(input_df)\n",
    "    \n",
    "    model_df['num_words_in_name'] = get_num_words_in_name(model_df)\n",
    "    \n",
    "    model_df = get_married_female_column(model_df)\n",
    "    \n",
    "    # Turn sex into single binary column.\n",
    "    model_df['Sex'] = (model_df['Sex'] == 'female').astype(int)\n",
    "    \n",
    "    # Turn embarkment port column into binary columns.\n",
    "    for col in ['Embarked']:\n",
    "        model_df = replace_with_featurized_column(model_df, col)\n",
    "      \n",
    "    # Store columns before dataframe gets turned into array by scaler.\n",
    "    model_cols = model_df.columns\n",
    "        \n",
    "    # Rescale the data.\n",
    "    model_df = model_df.dropna()\n",
    "    scaler = MinMaxScaler(feature_range=(0, 1))\n",
    "    model_df = pd.DataFrame(\n",
    "        data=scaler.fit_transform(model_df),\n",
    "        columns=model_cols\n",
    "    )\n",
    "        \n",
    "    return model_df\n",
    "\n",
    "model_df = build_model_df(train_data)"
   ]
  },
  {
   "cell_type": "code",
   "execution_count": 22,
   "metadata": {
    "collapsed": false,
    "deletable": true,
    "editable": true,
    "scrolled": true
   },
   "outputs": [
    {
     "data": {
      "text/plain": [
       "(712, 12)"
      ]
     },
     "execution_count": 22,
     "metadata": {},
     "output_type": "execute_result"
    }
   ],
   "source": [
    "model_df.shape"
   ]
  },
  {
   "cell_type": "code",
   "execution_count": 23,
   "metadata": {
    "collapsed": false
   },
   "outputs": [
    {
     "data": {
      "text/html": [
       "<div>\n",
       "<style scoped>\n",
       "    .dataframe tbody tr th:only-of-type {\n",
       "        vertical-align: middle;\n",
       "    }\n",
       "\n",
       "    .dataframe tbody tr th {\n",
       "        vertical-align: top;\n",
       "    }\n",
       "\n",
       "    .dataframe thead th {\n",
       "        text-align: right;\n",
       "    }\n",
       "</style>\n",
       "<table border=\"1\" class=\"dataframe\">\n",
       "  <thead>\n",
       "    <tr style=\"text-align: right;\">\n",
       "      <th></th>\n",
       "      <th>Survived</th>\n",
       "      <th>Pclass</th>\n",
       "      <th>Sex</th>\n",
       "      <th>Age</th>\n",
       "      <th>SibSp</th>\n",
       "      <th>Parch</th>\n",
       "      <th>Fare</th>\n",
       "      <th>num_words_in_name</th>\n",
       "      <th>IsMarriedWoman</th>\n",
       "      <th>Embarked_C</th>\n",
       "      <th>Embarked_Q</th>\n",
       "      <th>Embarked_S</th>\n",
       "    </tr>\n",
       "  </thead>\n",
       "  <tbody>\n",
       "    <tr>\n",
       "      <th>0</th>\n",
       "      <td>0.0</td>\n",
       "      <td>1.0</td>\n",
       "      <td>0.0</td>\n",
       "      <td>0.271174</td>\n",
       "      <td>0.2</td>\n",
       "      <td>0.0</td>\n",
       "      <td>0.014151</td>\n",
       "      <td>0.090909</td>\n",
       "      <td>0.0</td>\n",
       "      <td>0.0</td>\n",
       "      <td>0.0</td>\n",
       "      <td>1.0</td>\n",
       "    </tr>\n",
       "    <tr>\n",
       "      <th>1</th>\n",
       "      <td>1.0</td>\n",
       "      <td>0.0</td>\n",
       "      <td>1.0</td>\n",
       "      <td>0.472229</td>\n",
       "      <td>0.2</td>\n",
       "      <td>0.0</td>\n",
       "      <td>0.139136</td>\n",
       "      <td>0.363636</td>\n",
       "      <td>1.0</td>\n",
       "      <td>1.0</td>\n",
       "      <td>0.0</td>\n",
       "      <td>0.0</td>\n",
       "    </tr>\n",
       "    <tr>\n",
       "      <th>2</th>\n",
       "      <td>1.0</td>\n",
       "      <td>1.0</td>\n",
       "      <td>1.0</td>\n",
       "      <td>0.321438</td>\n",
       "      <td>0.0</td>\n",
       "      <td>0.0</td>\n",
       "      <td>0.015469</td>\n",
       "      <td>0.000000</td>\n",
       "      <td>0.0</td>\n",
       "      <td>0.0</td>\n",
       "      <td>0.0</td>\n",
       "      <td>1.0</td>\n",
       "    </tr>\n",
       "    <tr>\n",
       "      <th>3</th>\n",
       "      <td>1.0</td>\n",
       "      <td>0.0</td>\n",
       "      <td>1.0</td>\n",
       "      <td>0.434531</td>\n",
       "      <td>0.2</td>\n",
       "      <td>0.0</td>\n",
       "      <td>0.103644</td>\n",
       "      <td>0.363636</td>\n",
       "      <td>1.0</td>\n",
       "      <td>0.0</td>\n",
       "      <td>0.0</td>\n",
       "      <td>1.0</td>\n",
       "    </tr>\n",
       "    <tr>\n",
       "      <th>4</th>\n",
       "      <td>0.0</td>\n",
       "      <td>1.0</td>\n",
       "      <td>0.0</td>\n",
       "      <td>0.434531</td>\n",
       "      <td>0.0</td>\n",
       "      <td>0.0</td>\n",
       "      <td>0.015713</td>\n",
       "      <td>0.090909</td>\n",
       "      <td>0.0</td>\n",
       "      <td>0.0</td>\n",
       "      <td>0.0</td>\n",
       "      <td>1.0</td>\n",
       "    </tr>\n",
       "  </tbody>\n",
       "</table>\n",
       "</div>"
      ],
      "text/plain": [
       "   Survived  Pclass  Sex       Age  SibSp  Parch      Fare  num_words_in_name  \\\n",
       "0       0.0     1.0  0.0  0.271174    0.2    0.0  0.014151           0.090909   \n",
       "1       1.0     0.0  1.0  0.472229    0.2    0.0  0.139136           0.363636   \n",
       "2       1.0     1.0  1.0  0.321438    0.0    0.0  0.015469           0.000000   \n",
       "3       1.0     0.0  1.0  0.434531    0.2    0.0  0.103644           0.363636   \n",
       "4       0.0     1.0  0.0  0.434531    0.0    0.0  0.015713           0.090909   \n",
       "\n",
       "   IsMarriedWoman  Embarked_C  Embarked_Q  Embarked_S  \n",
       "0             0.0         0.0         0.0         1.0  \n",
       "1             1.0         1.0         0.0         0.0  \n",
       "2             0.0         0.0         0.0         1.0  \n",
       "3             1.0         0.0         0.0         1.0  \n",
       "4             0.0         0.0         0.0         1.0  "
      ]
     },
     "execution_count": 23,
     "metadata": {},
     "output_type": "execute_result"
    }
   ],
   "source": [
    "model_df.head()"
   ]
  },
  {
   "cell_type": "markdown",
   "metadata": {},
   "source": [
    "Examine the feature correlations in the model data:"
   ]
  },
  {
   "cell_type": "code",
   "execution_count": 24,
   "metadata": {
    "collapsed": false,
    "deletable": true,
    "editable": true
   },
   "outputs": [
    {
     "data": {
      "text/html": [
       "<div>\n",
       "<style scoped>\n",
       "    .dataframe tbody tr th:only-of-type {\n",
       "        vertical-align: middle;\n",
       "    }\n",
       "\n",
       "    .dataframe tbody tr th {\n",
       "        vertical-align: top;\n",
       "    }\n",
       "\n",
       "    .dataframe thead th {\n",
       "        text-align: right;\n",
       "    }\n",
       "</style>\n",
       "<table border=\"1\" class=\"dataframe\">\n",
       "  <thead>\n",
       "    <tr style=\"text-align: right;\">\n",
       "      <th></th>\n",
       "      <th>Survived</th>\n",
       "      <th>Pclass</th>\n",
       "      <th>Sex</th>\n",
       "      <th>Age</th>\n",
       "      <th>SibSp</th>\n",
       "      <th>Parch</th>\n",
       "      <th>Fare</th>\n",
       "      <th>num_words_in_name</th>\n",
       "      <th>IsMarriedWoman</th>\n",
       "      <th>Embarked_C</th>\n",
       "      <th>Embarked_Q</th>\n",
       "      <th>Embarked_S</th>\n",
       "    </tr>\n",
       "  </thead>\n",
       "  <tbody>\n",
       "    <tr>\n",
       "      <th>Survived</th>\n",
       "      <td>1.000000</td>\n",
       "      <td>-0.356462</td>\n",
       "      <td>0.536762</td>\n",
       "      <td>-0.082446</td>\n",
       "      <td>-0.015523</td>\n",
       "      <td>0.095265</td>\n",
       "      <td>0.266100</td>\n",
       "      <td>0.257572</td>\n",
       "      <td>0.332121</td>\n",
       "      <td>0.195673</td>\n",
       "      <td>-0.048966</td>\n",
       "      <td>-0.159015</td>\n",
       "    </tr>\n",
       "    <tr>\n",
       "      <th>Pclass</th>\n",
       "      <td>-0.356462</td>\n",
       "      <td>1.000000</td>\n",
       "      <td>-0.150826</td>\n",
       "      <td>-0.365902</td>\n",
       "      <td>0.065187</td>\n",
       "      <td>0.023666</td>\n",
       "      <td>-0.552893</td>\n",
       "      <td>-0.188996</td>\n",
       "      <td>-0.137312</td>\n",
       "      <td>-0.279194</td>\n",
       "      <td>0.131989</td>\n",
       "      <td>0.197831</td>\n",
       "    </tr>\n",
       "    <tr>\n",
       "      <th>Sex</th>\n",
       "      <td>0.536762</td>\n",
       "      <td>-0.150826</td>\n",
       "      <td>1.000000</td>\n",
       "      <td>-0.099037</td>\n",
       "      <td>0.106296</td>\n",
       "      <td>0.249543</td>\n",
       "      <td>0.182457</td>\n",
       "      <td>0.375334</td>\n",
       "      <td>0.568360</td>\n",
       "      <td>0.103611</td>\n",
       "      <td>0.027256</td>\n",
       "      <td>-0.109078</td>\n",
       "    </tr>\n",
       "    <tr>\n",
       "      <th>Age</th>\n",
       "      <td>-0.082446</td>\n",
       "      <td>-0.365902</td>\n",
       "      <td>-0.099037</td>\n",
       "      <td>1.000000</td>\n",
       "      <td>-0.307351</td>\n",
       "      <td>-0.187896</td>\n",
       "      <td>0.093143</td>\n",
       "      <td>0.061806</td>\n",
       "      <td>0.160059</td>\n",
       "      <td>0.038268</td>\n",
       "      <td>-0.021693</td>\n",
       "      <td>-0.025431</td>\n",
       "    </tr>\n",
       "    <tr>\n",
       "      <th>SibSp</th>\n",
       "      <td>-0.015523</td>\n",
       "      <td>0.065187</td>\n",
       "      <td>0.106296</td>\n",
       "      <td>-0.307351</td>\n",
       "      <td>1.000000</td>\n",
       "      <td>0.383338</td>\n",
       "      <td>0.139860</td>\n",
       "      <td>0.158096</td>\n",
       "      <td>0.083013</td>\n",
       "      <td>-0.046227</td>\n",
       "      <td>0.051331</td>\n",
       "      <td>0.018968</td>\n",
       "    </tr>\n",
       "    <tr>\n",
       "      <th>Parch</th>\n",
       "      <td>0.095265</td>\n",
       "      <td>0.023666</td>\n",
       "      <td>0.249543</td>\n",
       "      <td>-0.187896</td>\n",
       "      <td>0.383338</td>\n",
       "      <td>1.000000</td>\n",
       "      <td>0.206624</td>\n",
       "      <td>0.209213</td>\n",
       "      <td>0.240322</td>\n",
       "      <td>-0.009523</td>\n",
       "      <td>-0.009417</td>\n",
       "      <td>0.013259</td>\n",
       "    </tr>\n",
       "    <tr>\n",
       "      <th>Fare</th>\n",
       "      <td>0.266100</td>\n",
       "      <td>-0.552893</td>\n",
       "      <td>0.182457</td>\n",
       "      <td>0.093143</td>\n",
       "      <td>0.139860</td>\n",
       "      <td>0.206624</td>\n",
       "      <td>1.000000</td>\n",
       "      <td>0.132568</td>\n",
       "      <td>0.081096</td>\n",
       "      <td>0.301337</td>\n",
       "      <td>-0.062346</td>\n",
       "      <td>-0.250994</td>\n",
       "    </tr>\n",
       "    <tr>\n",
       "      <th>num_words_in_name</th>\n",
       "      <td>0.257572</td>\n",
       "      <td>-0.188996</td>\n",
       "      <td>0.375334</td>\n",
       "      <td>0.061806</td>\n",
       "      <td>0.158096</td>\n",
       "      <td>0.209213</td>\n",
       "      <td>0.132568</td>\n",
       "      <td>1.000000</td>\n",
       "      <td>0.678194</td>\n",
       "      <td>0.034772</td>\n",
       "      <td>-0.110123</td>\n",
       "      <td>0.019183</td>\n",
       "    </tr>\n",
       "    <tr>\n",
       "      <th>IsMarriedWoman</th>\n",
       "      <td>0.332121</td>\n",
       "      <td>-0.137312</td>\n",
       "      <td>0.568360</td>\n",
       "      <td>0.160059</td>\n",
       "      <td>0.083013</td>\n",
       "      <td>0.240322</td>\n",
       "      <td>0.081096</td>\n",
       "      <td>0.678194</td>\n",
       "      <td>1.000000</td>\n",
       "      <td>0.037413</td>\n",
       "      <td>-0.047113</td>\n",
       "      <td>-0.012746</td>\n",
       "    </tr>\n",
       "    <tr>\n",
       "      <th>Embarked_C</th>\n",
       "      <td>0.195673</td>\n",
       "      <td>-0.279194</td>\n",
       "      <td>0.103611</td>\n",
       "      <td>0.038268</td>\n",
       "      <td>-0.046227</td>\n",
       "      <td>-0.009523</td>\n",
       "      <td>0.301337</td>\n",
       "      <td>0.034772</td>\n",
       "      <td>0.037413</td>\n",
       "      <td>1.000000</td>\n",
       "      <td>-0.095623</td>\n",
       "      <td>-0.884986</td>\n",
       "    </tr>\n",
       "    <tr>\n",
       "      <th>Embarked_Q</th>\n",
       "      <td>-0.048966</td>\n",
       "      <td>0.131989</td>\n",
       "      <td>0.027256</td>\n",
       "      <td>-0.021693</td>\n",
       "      <td>0.051331</td>\n",
       "      <td>-0.009417</td>\n",
       "      <td>-0.062346</td>\n",
       "      <td>-0.110123</td>\n",
       "      <td>-0.047113</td>\n",
       "      <td>-0.095623</td>\n",
       "      <td>1.000000</td>\n",
       "      <td>-0.378859</td>\n",
       "    </tr>\n",
       "    <tr>\n",
       "      <th>Embarked_S</th>\n",
       "      <td>-0.159015</td>\n",
       "      <td>0.197831</td>\n",
       "      <td>-0.109078</td>\n",
       "      <td>-0.025431</td>\n",
       "      <td>0.018968</td>\n",
       "      <td>0.013259</td>\n",
       "      <td>-0.250994</td>\n",
       "      <td>0.019183</td>\n",
       "      <td>-0.012746</td>\n",
       "      <td>-0.884986</td>\n",
       "      <td>-0.378859</td>\n",
       "      <td>1.000000</td>\n",
       "    </tr>\n",
       "  </tbody>\n",
       "</table>\n",
       "</div>"
      ],
      "text/plain": [
       "                   Survived    Pclass       Sex       Age     SibSp     Parch  \\\n",
       "Survived           1.000000 -0.356462  0.536762 -0.082446 -0.015523  0.095265   \n",
       "Pclass            -0.356462  1.000000 -0.150826 -0.365902  0.065187  0.023666   \n",
       "Sex                0.536762 -0.150826  1.000000 -0.099037  0.106296  0.249543   \n",
       "Age               -0.082446 -0.365902 -0.099037  1.000000 -0.307351 -0.187896   \n",
       "SibSp             -0.015523  0.065187  0.106296 -0.307351  1.000000  0.383338   \n",
       "Parch              0.095265  0.023666  0.249543 -0.187896  0.383338  1.000000   \n",
       "Fare               0.266100 -0.552893  0.182457  0.093143  0.139860  0.206624   \n",
       "num_words_in_name  0.257572 -0.188996  0.375334  0.061806  0.158096  0.209213   \n",
       "IsMarriedWoman     0.332121 -0.137312  0.568360  0.160059  0.083013  0.240322   \n",
       "Embarked_C         0.195673 -0.279194  0.103611  0.038268 -0.046227 -0.009523   \n",
       "Embarked_Q        -0.048966  0.131989  0.027256 -0.021693  0.051331 -0.009417   \n",
       "Embarked_S        -0.159015  0.197831 -0.109078 -0.025431  0.018968  0.013259   \n",
       "\n",
       "                       Fare  num_words_in_name  IsMarriedWoman  Embarked_C  \\\n",
       "Survived           0.266100           0.257572        0.332121    0.195673   \n",
       "Pclass            -0.552893          -0.188996       -0.137312   -0.279194   \n",
       "Sex                0.182457           0.375334        0.568360    0.103611   \n",
       "Age                0.093143           0.061806        0.160059    0.038268   \n",
       "SibSp              0.139860           0.158096        0.083013   -0.046227   \n",
       "Parch              0.206624           0.209213        0.240322   -0.009523   \n",
       "Fare               1.000000           0.132568        0.081096    0.301337   \n",
       "num_words_in_name  0.132568           1.000000        0.678194    0.034772   \n",
       "IsMarriedWoman     0.081096           0.678194        1.000000    0.037413   \n",
       "Embarked_C         0.301337           0.034772        0.037413    1.000000   \n",
       "Embarked_Q        -0.062346          -0.110123       -0.047113   -0.095623   \n",
       "Embarked_S        -0.250994           0.019183       -0.012746   -0.884986   \n",
       "\n",
       "                   Embarked_Q  Embarked_S  \n",
       "Survived            -0.048966   -0.159015  \n",
       "Pclass               0.131989    0.197831  \n",
       "Sex                  0.027256   -0.109078  \n",
       "Age                 -0.021693   -0.025431  \n",
       "SibSp                0.051331    0.018968  \n",
       "Parch               -0.009417    0.013259  \n",
       "Fare                -0.062346   -0.250994  \n",
       "num_words_in_name   -0.110123    0.019183  \n",
       "IsMarriedWoman      -0.047113   -0.012746  \n",
       "Embarked_C          -0.095623   -0.884986  \n",
       "Embarked_Q           1.000000   -0.378859  \n",
       "Embarked_S          -0.378859    1.000000  "
      ]
     },
     "execution_count": 24,
     "metadata": {},
     "output_type": "execute_result"
    }
   ],
   "source": [
    "model_df.corr()"
   ]
  },
  {
   "cell_type": "markdown",
   "metadata": {},
   "source": [
    "Separate train and test datasets."
   ]
  },
  {
   "cell_type": "code",
   "execution_count": 25,
   "metadata": {
    "collapsed": true
   },
   "outputs": [],
   "source": [
    "features = model_df[model_df.columns[1:]]\n",
    "targets = model_df[model_df.columns[0]]\n",
    "\n",
    "X_train, X_test, y_train, y_test = train_test_split(\n",
    "    features, \n",
    "    targets, \n",
    "    test_size=0.30, \n",
    "    random_state=1\n",
    ")"
   ]
  },
  {
   "cell_type": "markdown",
   "metadata": {},
   "source": [
    "## Build Model"
   ]
  },
  {
   "cell_type": "markdown",
   "metadata": {},
   "source": [
    "### Logistic Regression\n",
    "Since the target is binary let's go with the logisitic regression estimator. This appears to be performing\n",
    "better than an SGD classifier with these input features.\n",
    "\n",
    "First GridSearch over `C` and `penalty` params to find optimal model."
   ]
  },
  {
   "cell_type": "code",
   "execution_count": 26,
   "metadata": {
    "collapsed": false
   },
   "outputs": [
    {
     "data": {
      "text/plain": [
       "GridSearchCV(cv=5, error_score='raise-deprecating',\n",
       "             estimator=Pipeline(memory=None,\n",
       "                                steps=[('logistic',\n",
       "                                        LogisticRegression(C=1.0,\n",
       "                                                           class_weight=None,\n",
       "                                                           dual=False,\n",
       "                                                           fit_intercept=True,\n",
       "                                                           intercept_scaling=1,\n",
       "                                                           l1_ratio=None,\n",
       "                                                           max_iter=100,\n",
       "                                                           multi_class='warn',\n",
       "                                                           n_jobs=None,\n",
       "                                                           penalty='l2',\n",
       "                                                           random_state=None,\n",
       "                                                           solver='liblinear',\n",
       "                                                           tol=0.001, verbose=0,\n",
       "                                                           warm_start=False))],\n",
       "                                verbose=False),\n",
       "             iid=True, n_jobs=None,\n",
       "             param_grid={'logistic__C': array([0.1, 0.2, 0.3, 0.4, 0.5, 0.6, 0.7, 0.8, 0.9, 1. ]),\n",
       "                         'logistic__penalty': ['l1', 'l2']},\n",
       "             pre_dispatch='2*n_jobs', refit=True, return_train_score=False,\n",
       "             scoring=None, verbose=0)"
      ]
     },
     "execution_count": 26,
     "metadata": {},
     "output_type": "execute_result"
    },
    {
     "data": {
      "text/plain": [
       "'Best parameter (CV score=0.795):'"
      ]
     },
     "execution_count": 26,
     "metadata": {},
     "output_type": "execute_result"
    },
    {
     "data": {
      "text/plain": [
       "{'logistic__C': 1.0, 'logistic__penalty': 'l1'}"
      ]
     },
     "execution_count": 26,
     "metadata": {},
     "output_type": "execute_result"
    }
   ],
   "source": [
    "logistic_reg = LogisticRegression(\n",
    "    max_iter=100, \n",
    "    tol=1e-3, \n",
    "    solver='liblinear'\n",
    ")\n",
    "\n",
    "pipe = Pipeline(\n",
    "    steps=[('logistic', logistic_reg)]\n",
    ")\n",
    "\n",
    "# Set pipeline parameters and their ranges.\n",
    "param_grid = {\n",
    "    'logistic__C': np.arange(0.1, 1.1, 0.1),\n",
    "    'logistic__penalty': ['l1', 'l2'],\n",
    "}\n",
    "\n",
    "search = GridSearchCV(pipe, param_grid, iid=True, cv=5)\n",
    "search.fit(X_train, y_train)\n",
    "\"Best parameter (CV score=%0.3f):\" % search.best_score_\n",
    "search.best_params_"
   ]
  },
  {
   "cell_type": "markdown",
   "metadata": {},
   "source": [
    "Evaluate logistic regression model using optimal params."
   ]
  },
  {
   "cell_type": "code",
   "execution_count": 27,
   "metadata": {
    "collapsed": false
   },
   "outputs": [
    {
     "data": {
      "text/plain": [
       "'Mean prediction accuracy: 0.7757009345794392'"
      ]
     },
     "execution_count": 27,
     "metadata": {},
     "output_type": "execute_result"
    },
    {
     "data": {
      "text/plain": [
       "'Precision score: 0.7222222222222222'"
      ]
     },
     "execution_count": 27,
     "metadata": {},
     "output_type": "execute_result"
    },
    {
     "data": {
      "text/plain": [
       "'Recall score: 0.7386363636363636'"
      ]
     },
     "execution_count": 27,
     "metadata": {},
     "output_type": "execute_result"
    }
   ],
   "source": [
    "best_model = search.best_estimator_\n",
    "y_pred = best_model.predict(X_test)\n",
    "\n",
    "'Mean prediction accuracy: ' + str(best_model.score(X_test, y_test))\n",
    "'Precision score: ' + str(precision_score(y_test, y_pred, average='binary'))\n",
    "'Recall score: ' + str(recall_score(y_test, y_pred, average='binary'))"
   ]
  },
  {
   "cell_type": "markdown",
   "metadata": {},
   "source": [
    "### Random Forest Classifier\n",
    "The performance of the logistic regression is not great. Let's look at a random forest\n",
    "classifier."
   ]
  },
  {
   "cell_type": "code",
   "execution_count": 28,
   "metadata": {
    "collapsed": false
   },
   "outputs": [
    {
     "data": {
      "text/plain": [
       "GridSearchCV(cv=5, error_score='raise-deprecating',\n",
       "             estimator=Pipeline(memory=None,\n",
       "                                steps=[('rfc',\n",
       "                                        RandomForestClassifier(bootstrap=True,\n",
       "                                                               class_weight=None,\n",
       "                                                               criterion='gini',\n",
       "                                                               max_depth=None,\n",
       "                                                               max_features='auto',\n",
       "                                                               max_leaf_nodes=None,\n",
       "                                                               min_impurity_decrease=0.0,\n",
       "                                                               min_impurity_split=None,\n",
       "                                                               min_samples_leaf=1,\n",
       "                                                               min_samples_split=2,\n",
       "                                                               min_weight_fraction_leaf=0.0,\n",
       "                                                               n_estimators='warn',\n",
       "                                                               n_jobs=None,\n",
       "                                                               oob_score=False,\n",
       "                                                               random_state=None,\n",
       "                                                               verbose=0,\n",
       "                                                               warm_start=False))],\n",
       "                                verbose=False),\n",
       "             iid=True, n_jobs=None,\n",
       "             param_grid={'rfc__bootstrap': [True, False],\n",
       "                         'rfc__criterion': ['gini', 'entropy'],\n",
       "                         'rfc__n_estimators': array([15, 20, 25, 30, 35, 40, 45])},\n",
       "             pre_dispatch='2*n_jobs', refit=True, return_train_score=False,\n",
       "             scoring=None, verbose=0)"
      ]
     },
     "execution_count": 28,
     "metadata": {},
     "output_type": "execute_result"
    },
    {
     "data": {
      "text/plain": [
       "'Best parameter (CV score=0.821):'"
      ]
     },
     "execution_count": 28,
     "metadata": {},
     "output_type": "execute_result"
    },
    {
     "data": {
      "text/plain": [
       "{'rfc__bootstrap': True, 'rfc__criterion': 'entropy', 'rfc__n_estimators': 30}"
      ]
     },
     "execution_count": 28,
     "metadata": {},
     "output_type": "execute_result"
    },
    {
     "data": {
      "text/plain": [
       "'Mean prediction accuracy: 0.7663551401869159'"
      ]
     },
     "execution_count": 28,
     "metadata": {},
     "output_type": "execute_result"
    },
    {
     "data": {
      "text/plain": [
       "'Precision score: 0.7261904761904762'"
      ]
     },
     "execution_count": 28,
     "metadata": {},
     "output_type": "execute_result"
    },
    {
     "data": {
      "text/plain": [
       "'Recall score: 0.6931818181818182'"
      ]
     },
     "execution_count": 28,
     "metadata": {},
     "output_type": "execute_result"
    }
   ],
   "source": [
    "rfc = RandomForestClassifier()\n",
    "\n",
    "pipe = Pipeline(\n",
    "    steps=[('rfc', rfc)]\n",
    ")\n",
    "\n",
    "# Set pipeline parameters and their ranges.\n",
    "param_grid = {\n",
    "    'rfc__bootstrap': [True, False],\n",
    "    'rfc__n_estimators': np.arange(15, 46, 5),\n",
    "    'rfc__criterion': ['gini', 'entropy'],\n",
    "}\n",
    "\n",
    "search = GridSearchCV(pipe, param_grid, iid=True, cv=5)\n",
    "search.fit(X_train, y_train)\n",
    "\"Best parameter (CV score=%0.3f):\" % search.best_score_\n",
    "search.best_params_\n",
    "\n",
    "\n",
    "best_model = search.best_estimator_\n",
    "y_pred = best_model.predict(X_test)\n",
    "\n",
    "'Mean prediction accuracy: ' + str(best_model.score(X_test, y_test))\n",
    "'Precision score: ' + str(precision_score(y_test, y_pred, average='binary'))\n",
    "'Recall score: ' + str(recall_score(y_test, y_pred, average='binary'))"
   ]
  },
  {
   "cell_type": "markdown",
   "metadata": {},
   "source": [
    "Let's try upsampling the minority class (survivors)."
   ]
  },
  {
   "cell_type": "code",
   "execution_count": 29,
   "metadata": {
    "collapsed": false
   },
   "outputs": [
    {
     "data": {
      "text/plain": [
       "RandomForestClassifier(bootstrap=True, class_weight=None, criterion='gini',\n",
       "                       max_depth=None, max_features='auto', max_leaf_nodes=None,\n",
       "                       min_impurity_decrease=0.0, min_impurity_split=None,\n",
       "                       min_samples_leaf=1, min_samples_split=2,\n",
       "                       min_weight_fraction_leaf=0.0, n_estimators=20,\n",
       "                       n_jobs=None, oob_score=False, random_state=None,\n",
       "                       verbose=0, warm_start=False)"
      ]
     },
     "execution_count": 29,
     "metadata": {},
     "output_type": "execute_result"
    },
    {
     "data": {
      "text/plain": [
       "'Mean prediction accuracy: 0.780373831775701'"
      ]
     },
     "execution_count": 29,
     "metadata": {},
     "output_type": "execute_result"
    },
    {
     "data": {
      "text/plain": [
       "'Precision score: 0.7469879518072289'"
      ]
     },
     "execution_count": 29,
     "metadata": {},
     "output_type": "execute_result"
    },
    {
     "data": {
      "text/plain": [
       "'Recall score: 0.7045454545454546'"
      ]
     },
     "execution_count": 29,
     "metadata": {},
     "output_type": "execute_result"
    }
   ],
   "source": [
    "\n",
    "def upsample_minority(X_train, y_train):\n",
    "    '''Artificially create more samples in the minority class using\n",
    "    k-nearest neighbours.\n",
    "    '''\n",
    "\n",
    "    # Concatenate training data back together.\n",
    "    X = pd.concat([X_train, y_train], axis=1)\n",
    "\n",
    "    # Separate minority and majority classes.\n",
    "    died = X[X['Survived'] == 0]\n",
    "    survived = X[X['Survived'] == 1]\n",
    "\n",
    "    # Upsample minority class.\n",
    "    survived_upsampled = resample(\n",
    "        survived,\n",
    "        replace=True,\n",
    "        n_samples=died.shape[0],\n",
    "        random_state=2\n",
    "    )\n",
    "\n",
    "    # Replace minority data with upsampled data.\n",
    "    upsampled = pd.concat([died, survived_upsampled])\n",
    "\n",
    "    upsamp_y_train = upsampled['Survived']\n",
    "    upsamp_X_train = upsampled.drop('Survived', axis=1)\n",
    "    \n",
    "    return upsamp_X_train, upsamp_y_train\n",
    "\n",
    "upsamp_X_train, upsamp_y_train = upsample_minority(X_train, y_train)\n",
    "\n",
    "# upsampled_model = LogisticRegression(solver='liblinear')\n",
    "upsampled_model = RandomForestClassifier(n_estimators=20)\n",
    "upsampled_model.fit(upsamp_X_train, upsamp_y_train)\n",
    "\n",
    "upsampled_pred = upsampled_model.predict(X_test)\n",
    "\n",
    "'Mean prediction accuracy: ' + str(upsampled_model.score(X_test, y_test))\n",
    "'Precision score: ' + str(precision_score(y_test, upsampled_pred, average='binary'))\n",
    "'Recall score: ' + str(recall_score(y_test, upsampled_pred, average='binary'))"
   ]
  }
 ],
 "metadata": {
  "kernelspec": {
   "display_name": "kaggle-titanic",
   "language": "python",
   "name": "kaggle-titanic"
  },
  "language_info": {
   "codemirror_mode": {
    "name": "ipython",
    "version": 3
   },
   "file_extension": ".py",
   "mimetype": "text/x-python",
   "name": "python",
   "nbconvert_exporter": "python",
   "pygments_lexer": "ipython3",
   "version": "3.7.3"
  }
 },
 "nbformat": 4,
 "nbformat_minor": 0
}
